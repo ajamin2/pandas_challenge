{
 "cells": [
  {
   "cell_type": "markdown",
   "id": "b343e053",
   "metadata": {},
   "source": [
    "# School District Analysis - Pandas Challenge\n",
    "   > Perform data analysis of district-wide standardized test results of a city's schools, and aggregate the data to showcase obvious trends in school performance which can be useful in making strategic decisions regarding future school budgets and priorities\n",
    "---"
   ]
  },
  {
   "cell_type": "code",
   "execution_count": null,
   "id": "9912538a",
   "metadata": {},
   "outputs": [],
   "source": [
    "# Dependencies and Setup\n",
    "import pandas as pd\n",
    "import numpy as np\n",
    "\n",
    "# File to Load\n",
    "school_data = \"/Users/anishachaudhari/data_science/Challenges/PyCitySchools/Resources/schools_complete.csv\"\n",
    "student_data = \"/Users/anishachaudhari/data_science/Challenges/PyCitySchools/Resources/students_complete.csv\"\n",
    "\n",
    "# Read School and Student Data File and store into Pandas DataFrames\n",
    "school_df = pd.read_csv(school_data)\n",
    "student_df = pd.read_csv(student_data)\n",
    "\n",
    "# Combine the data into a single dataset.  \n",
    "school_data_complete = pd.merge(student_df, school_df, how=\"left\", on=[\"school_name\", \"school_name\"])\n",
    "school_data_complete.head()"
   ]
  },
  {
   "cell_type": "markdown",
   "id": "117eced2",
   "metadata": {},
   "source": [
    " ---\n",
    "## District Summary"
   ]
  },
  {
   "cell_type": "code",
   "execution_count": null,
   "id": "c5c30d7c",
   "metadata": {},
   "outputs": [],
   "source": [
    "# Count number of unique schools in the DataFrame\n",
    "total_schools = school_data_complete[\"school_name\"].nunique()\n",
    "\n",
    "\n",
    "# Display the summary\n",
    "total_schools"
   ]
  },
  {
   "cell_type": "code",
   "execution_count": null,
   "id": "e1d03fd7",
   "metadata": {},
   "outputs": [],
   "source": [
    "# Count number of students \n",
    "total_students = school_data_complete[\"Student ID\"].nunique()\n",
    "\n",
    "\n",
    "# Display the summary\n",
    "total_students\n",
    "                    \n"
   ]
  },
  {
   "cell_type": "code",
   "execution_count": null,
   "id": "2c25cfe8",
   "metadata": {},
   "outputs": [],
   "source": [
    "# Make a list of all the unique budgets\n",
    "budget_list = school_data_complete[\"budget\"].unique()\n",
    "\n",
    "\n",
    "# Calculate total budget\n",
    "total_budget = budget_list.sum()\n",
    "\n",
    "\n",
    "# Display total budget\n",
    "total_budget"
   ]
  },
  {
   "cell_type": "code",
   "execution_count": null,
   "id": "e1018dc3",
   "metadata": {},
   "outputs": [],
   "source": [
    "# Average math score\n",
    "avg_math_score = school_data_complete[\"math_score\"].mean()\n",
    "\n",
    "# Display average math score\n",
    "avg_math_score\n"
   ]
  },
  {
   "cell_type": "code",
   "execution_count": null,
   "id": "9d07ad74",
   "metadata": {},
   "outputs": [],
   "source": [
    "# Average reading score\n",
    "avg_reading_score = school_data_complete[\"reading_score\"].mean()\n",
    "\n",
    "# Display average reading score\n",
    "avg_reading_score"
   ]
  },
  {
   "cell_type": "code",
   "execution_count": null,
   "id": "787e951c",
   "metadata": {},
   "outputs": [],
   "source": [
    "# Calculate the percentage of students with a passing math score (70 or greater)\n",
    "stu_pass_math = len(school_data_complete[school_data_complete[\"math_score\"]>=70])\n",
    "percent_pass_math = (stu_pass_math/total_students)*100\n",
    "#percent_pass_format = \"{:,.2f} %\".format(percent_pass_calc)\n",
    "#percent_pass_math = pd.DataFrame({\"% Students Passing Math\":[percent_pass_format]})\n",
    "percent_pass_math"
   ]
  },
  {
   "cell_type": "code",
   "execution_count": null,
   "id": "06f5393a",
   "metadata": {},
   "outputs": [],
   "source": [
    "# Calculate the percentage of students with a passing reading score (70 or greater)\n",
    "stu_pass_read = len(school_data_complete[school_data_complete[\"reading_score\"]>=70])\n",
    "percent_pass_read = (stu_pass_read/total_students)*100\n",
    "#percent_pr_format = \"{:,.2f} %\".format(percent_pr_calc)\n",
    "#percent_pass_read = pd.DataFrame({\"% Students Passing Reading\":[percent_pr_format]})\n",
    "percent_pass_read"
   ]
  },
  {
   "cell_type": "code",
   "execution_count": null,
   "id": "b7509336",
   "metadata": {},
   "outputs": [],
   "source": [
    "# Calculate total number of students who passed both math and reading\n",
    "total_passed_both = school_data_complete[(school_data_complete[\"math_score\"] >=70) \n",
    "                                         & (school_data_complete[\"reading_score\"] >=70)]\n",
    "pass_both_id = total_passed_both[\"Student ID\"].count()\n",
    "pass_percentage_both = (pass_both_id / total_students)*100\n",
    "pass_percentage_both                                                          "
   ]
  },
  {
   "cell_type": "code",
   "execution_count": null,
   "id": "49f2a763",
   "metadata": {},
   "outputs": [],
   "source": [
    "# Create dataframe to hold the above results\n",
    "district_summary_df = [{\n",
    "        \"Total Schools\":total_schools, \n",
    "        \"Total Students\": total_students, \n",
    "        \"Total Budget\": total_budget,\n",
    "        \"Average Math Score\": avg_math_score, \n",
    "        \"Average Reading Score\": avg_reading_score,\n",
    "        \"% Passing Math\": percent_pass_math,\n",
    "        \"% Passing Reading\": percent_pass_read,\n",
    "        \"% Overall Passing\": pass_percentage_both}]\n",
    "district_summary_df = pd.DataFrame(district_summary_df)\n",
    "district_summary_df\n"
   ]
  },
  {
   "cell_type": "code",
   "execution_count": null,
   "id": "40928188",
   "metadata": {},
   "outputs": [],
   "source": [
    "# Optional: give the displayed data cleaner formatting\n",
    "\n",
    "district_summary_df[\"Total Budget\"] = district_summary_df[\"Total Budget\"].map(\"$ {:,}\".format)\n",
    "district_summary_df[\"Average Math Score\"] = district_summary_df[\"Average Math Score\"].map(\"{:,.2f}\".format)\n",
    "district_summary_df[\"Average Reading Score\"] = district_summary_df[\"Average Reading Score\"].map(\"{:,.2f}\".format)\n",
    "district_summary_df[\"% Passing Math\"] = district_summary_df[\"% Passing Math\"].map(\"{:,.2f} %\".format)\n",
    "district_summary_df[\"% Passing Reading\"] = district_summary_df[\"% Passing Reading\"].map(\"{:,.2f} %\".format)\n",
    "district_summary_df[\"% Overall Passing\"] = district_summary_df[\"% Overall Passing\"].map(\"{:,.2f} %\".format)\n",
    "\n",
    "# Display cleaner formatting\n",
    "district_summary_df\n"
   ]
  },
  {
   "cell_type": "markdown",
   "id": "d988170b",
   "metadata": {},
   "source": [
    "---\n",
    "## School Summary\n",
    "Create an overview table that summarizes key metrics about each school, including:\n",
    "\n",
    "   > School Name\n",
    "   \n",
    "   > School Type\n",
    "   \n",
    "   > Total Students\n",
    "   \n",
    "   > Total School Budget\n",
    "   \n",
    "   > Per Student Budget\n",
    "   \n",
    "   > Average Math Score\n",
    "   \n",
    "   > Average Reading Score\n",
    "   \n",
    "   > % Passing Math\n",
    "   \n",
    "   > % Passing Reading\n",
    "   \n",
    "   > % Overall Passing (The percentage of students that passed math and reading.)\n",
    "   \n",
    "   > Create a dataframe to hold the above results"
   ]
  },
  {
   "cell_type": "code",
   "execution_count": null,
   "id": "7b7a46b3",
   "metadata": {
    "scrolled": true
   },
   "outputs": [],
   "source": [
    "# School name\n",
    "school_name_df = school_data_complete.groupby([\"school_name\"])\n",
    "\n",
    "# School type\n",
    "school_type = school_name_df[\"type\"].max()\n",
    "\n",
    "# total student count from each school\n",
    "student_count = school_name_df[\"Student ID\"].nunique()\n",
    " \n",
    "# total budget each school\n",
    "total_school_budget = school_name_df[\"budget\"].max()\n",
    "\n",
    "# per student budget\n",
    "per_stu_budget = total_school_budget / student_count\n",
    "\n",
    "# average math score\n",
    "avg_math_score = school_name_df[\"math_score\"].mean()\n",
    "\n",
    "# average reading score\n",
    "avg_reading_score = school_name_df[\"reading_score\"].mean()\n",
    "\n",
    "# % passing math\n",
    "passed_math = school_data_complete[school_data_complete[\"math_score\"] >= 70].groupby(\"school_name\")[\"Student ID\"].count()\n",
    "percent_passed_math = (passed_math/student_count)*100\n",
    "\n",
    "# % passing reading\n",
    "passed_reading = school_data_complete[school_data_complete[\"reading_score\"] >= 70].groupby(\"school_name\")[\"Student ID\"].count()\n",
    "percent_passed_reading = (passed_reading/student_count)*100\n",
    "\n",
    "# % overall passing / % of students passed both math and reading\n",
    "passed_both = school_data_complete[(school_data_complete[\"math_score\"] >= 70) & (school_data_complete[\"reading_score\"] >= 70)].groupby(\"school_name\")[\"Student ID\"].nunique()\n",
    "percent_passed_both = (passed_both/student_count)*100\n",
    "\n",
    "# create dataframe to hold the above results\n",
    "school_summary_df = pd.DataFrame({\n",
    "    \"School Type\":school_type,\n",
    "    \"Total Students\":student_count,\n",
    "    \"Total School Budget\":total_school_budget,\n",
    "    \"Per Student Budget\":per_stu_budget,\n",
    "    \"Average Math Score\":avg_math_score,\n",
    "    \"Average Reading Score\":avg_reading_score,\n",
    "    \"% Passing Math\":percent_passed_math,\n",
    "    \"% Passing Reading\":percent_passed_reading,\n",
    "    \"% Overall Passing\":percent_passed_both\n",
    "\n",
    "})\n",
    "\n",
    "# use map to format all the columns\n",
    "school_summary_df = school_summary_df\n",
    "school_summary_df[\"Total School Budget\"] = school_summary_df[\"Total School Budget\"].map(\"$ {:,}\".format)\n",
    "school_summary_df[\"Per Student Budget\"] = school_summary_df[\"Per Student Budget\"].map(\"$ {:,.0f}\".format)\n",
    "school_summary_df[\"Average Math Score\"] = school_summary_df[\"Average Math Score\"].map(\"{:,.2f}\".format)\n",
    "school_summary_df[\"Average Reading Score\"] = school_summary_df[\"Average Reading Score\"].map(\"{:,.2f}\".format)\n",
    "school_summary_df[\"% Passing Math\"] = school_summary_df[\"% Passing Math\"].map(\"{:.2f} %\".format)\n",
    "school_summary_df[\"% Passing Reading\"] = school_summary_df[\"% Passing Reading\"].map(\"{:.2f} %\".format)\n",
    "school_summary_df[\"% Overall Passing\"] = school_summary_df[\"% Overall Passing\"].map(\"{:.2f} %\".format)\n",
    "\n",
    "school_summary_df.head()"
   ]
  },
  {
   "cell_type": "markdown",
   "id": "96f152df",
   "metadata": {},
   "source": [
    " ---\n",
    "## Top Performing Schools (By % Overall Passing)\n",
    "   > Sort and display the top five performing schools by % overall passing"
   ]
  },
  {
   "cell_type": "code",
   "execution_count": null,
   "id": "b00d5dbd",
   "metadata": {},
   "outputs": [],
   "source": [
    "top_perform_schools = school_summary_df.sort_values(\"% Overall Passing\", ascending=False)\n",
    "top_perform_schools[:5]"
   ]
  },
  {
   "cell_type": "markdown",
   "id": "08b50f03",
   "metadata": {},
   "source": [
    "---\n",
    "## Bottom Performing Schools (By % Overall Passing)\n",
    "   > Sort and display the five worst-performing schools by % overall passing"
   ]
  },
  {
   "cell_type": "code",
   "execution_count": null,
   "id": "2b85eb17",
   "metadata": {},
   "outputs": [],
   "source": [
    "bottom_perform_schools = school_summary_df.sort_values(\"% Overall Passing\", ascending=True)\n",
    "bottom_perform_schools[:5]"
   ]
  },
  {
   "cell_type": "markdown",
   "id": "16c61159",
   "metadata": {},
   "source": [
    "---\n",
    "## Math Scores by Grade\n",
    "   > Create a table that lists the average math score for students of each grade level (9th, 10th, 11th, 12th) at each school.\n",
    "\n",
    "   > Create a pandas series for each grade. Hint: use a conditional statement.\n",
    "\n",
    "   > Group each series by school\n",
    "\n",
    "   > Combine the series into a dataframe\n",
    "\n",
    "   > Optional: give the displayed data cleaner formatting"
   ]
  },
  {
   "cell_type": "code",
   "execution_count": null,
   "id": "d99a0782",
   "metadata": {},
   "outputs": [],
   "source": [
    "# Create a table that lists the average math score for students of each grade level (9th, 10th, 11th, 12th) at each school\n",
    "math_grade_school = school_data_complete[[\"school_name\", \"grade\", \"math_score\"]]\n"
   ]
  },
  {
   "cell_type": "code",
   "execution_count": null,
   "id": "20ef10ff",
   "metadata": {},
   "outputs": [],
   "source": [
    "# Create a pandas series for each grade. Hint: use a conditional statement.\n",
    "ninth = math_grade_school.loc[math_grade_school[\"grade\"] == \"9th\"]\n",
    "tenth = math_grade_school.loc[math_grade_school[\"grade\"] == \"10th\"]\n",
    "eleventh = math_grade_school.loc[math_grade_school[\"grade\"] == \"11th\"]\n",
    "twelfth = math_grade_school.loc[math_grade_school[\"grade\"] == \"12th\"]\n"
   ]
  },
  {
   "cell_type": "code",
   "execution_count": null,
   "id": "6a390500",
   "metadata": {},
   "outputs": [],
   "source": [
    "# Group each series by school\n",
    "ninth_group = ninth.groupby([\"school_name\"])[\"math_score\"].mean()\n",
    "tenth_group = tenth.groupby([\"school_name\"])[\"math_score\"].mean()\n",
    "eleventh_group = eleventh.groupby([\"school_name\"])[\"math_score\"].mean()\n",
    "twelfth_group = twelfth.groupby([\"school_name\"])[\"math_score\"].mean()\n"
   ]
  },
  {
   "cell_type": "code",
   "execution_count": null,
   "id": "d4660705",
   "metadata": {},
   "outputs": [],
   "source": [
    "# Combine the series into a dataframe\n",
    "mgs_summary = pd.DataFrame({\n",
    "    \"9th Grade\":ninth_group,\n",
    "    \"10th Grade\":tenth_group,\n",
    "    \"11th Grade\":eleventh_group,\n",
    "    \"12th Grade\":twelfth_group})\n",
    "mgs_summary.head()"
   ]
  },
  {
   "cell_type": "code",
   "execution_count": null,
   "id": "403c871c",
   "metadata": {},
   "outputs": [],
   "source": [
    "# Optional: give the displayed data cleaner formatting\n",
    "mgs_summary[\"9th Grade\"] = mgs_summary[\"9th Grade\"].map(\"{:,.2f} %\".format)\n",
    "mgs_summary[\"10th Grade\"] = mgs_summary[\"10th Grade\"].map(\"{:,.2f} %\".format)\n",
    "mgs_summary[\"11th Grade\"] = mgs_summary[\"11th Grade\"].map(\"{:,.2f} %\".format)\n",
    "mgs_summary[\"12th Grade\"] = mgs_summary[\"12th Grade\"].map(\"{:,.2f} %\".format)\n",
    "mgs_summary"
   ]
  },
  {
   "cell_type": "markdown",
   "id": "ae1ca5c4",
   "metadata": {},
   "source": [
    "---\n",
    "## Reading Scores by Grade\n",
    "   > Create a table that lists the average reading score for students of each grade level (9th, 10th, 11th, 12th) at each school.\n",
    "\n",
    "   > Create a pandas series for each grade. Hint: use a conditional statement.\n",
    "\n",
    "   > Group each series by school\n",
    "\n",
    "   > Combine the series into a dataframe\n",
    "\n",
    "   > Optional: give the displayed data cleaner formatting"
   ]
  },
  {
   "cell_type": "code",
   "execution_count": null,
   "id": "e97df14e",
   "metadata": {},
   "outputs": [],
   "source": [
    "# Create a table that lists the average reading score for students of each grade level (9th, 10th, 11th, 12th) at each school\n",
    "read_grade_school = school_data_complete[[\"school_name\", \"grade\", \"reading_score\"]]\n"
   ]
  },
  {
   "cell_type": "code",
   "execution_count": null,
   "id": "69fffee5",
   "metadata": {},
   "outputs": [],
   "source": [
    "# Create a pandas series for each grade. Hint: use a conditional statement.\n",
    "ninth = read_grade_school.loc[math_grade_school[\"grade\"] == \"9th\"]\n",
    "tenth = read_grade_school.loc[math_grade_school[\"grade\"] == \"10th\"]\n",
    "eleventh = read_grade_school.loc[math_grade_school[\"grade\"] == \"11th\"]\n",
    "twelfth = read_grade_school.loc[math_grade_school[\"grade\"] == \"12th\"]\n"
   ]
  },
  {
   "cell_type": "code",
   "execution_count": null,
   "id": "3b9f8d71",
   "metadata": {},
   "outputs": [],
   "source": [
    "# Group each series by school\n",
    "ninth_group = ninth.groupby([\"school_name\"])[\"reading_score\"].mean()\n",
    "tenth_group = tenth.groupby([\"school_name\"])[\"reading_score\"].mean()\n",
    "eleventh_group = eleventh.groupby([\"school_name\"])[\"reading_score\"].mean()\n",
    "twelfth_group = twelfth.groupby([\"school_name\"])[\"reading_score\"].mean()"
   ]
  },
  {
   "cell_type": "code",
   "execution_count": null,
   "id": "c6d75a4a",
   "metadata": {},
   "outputs": [],
   "source": [
    "# Combine the series into a dataframe\n",
    "rgs_summary = pd.DataFrame({\n",
    "    \"9th Grade\":ninth_group,\n",
    "    \"10th Grade\":tenth_group,\n",
    "    \"11th Grade\":eleventh_group,\n",
    "    \"12th Grade\":twelfth_group})\n",
    "rgs_summary.head()"
   ]
  },
  {
   "cell_type": "code",
   "execution_count": null,
   "id": "3c8938c6",
   "metadata": {},
   "outputs": [],
   "source": [
    "# Optional: give the displayed data cleaner formatting\n",
    "rgs_summary[\"9th Grade\"] = rgs_summary[\"9th Grade\"].map(\"{:,.2f} %\".format)\n",
    "rgs_summary[\"10th Grade\"] = rgs_summary[\"10th Grade\"].map(\"{:,.2f} %\".format)\n",
    "rgs_summary[\"11th Grade\"] = rgs_summary[\"11th Grade\"].map(\"{:,.2f} %\".format)\n",
    "rgs_summary[\"12th Grade\"] = rgs_summary[\"12th Grade\"].map(\"{:,.2f} %\".format)\n",
    "rgs_summary"
   ]
  },
  {
   "cell_type": "markdown",
   "id": "1e1166f7",
   "metadata": {},
   "source": [
    "---\n",
    "## Scores by School Spending\n",
    "   *Create a table that breaks down school performances based on average Spending Ranges (Per Student)*\n",
    "   \n",
    "   Use 4 reasonable bins to group school spending. Include in the table each of the following:\n",
    "\n",
    "   > Average Math Score\n",
    "\n",
    "   > Average Reading Score  \n",
    "\n",
    "   > % Passing Math         \n",
    "\n",
    "   > % Passing Reading         \n",
    "\n",
    "   > Overall Passing Rate (Average of the above two)          "
   ]
  },
  {
   "cell_type": "code",
   "execution_count": null,
   "id": "06cf8fec",
   "metadata": {},
   "outputs": [],
   "source": [
    "# create table with necessary columns from school summary\n",
    "spending = school_summary_df[[\"Average Math Score\", \"Average Reading Score\", \"% Passing Math\", \"% Passing Reading\", \"% Overall Passing\"]]\n",
    "spending.head()\n"
   ]
  },
  {
   "cell_type": "code",
   "execution_count": null,
   "id": "8211e916",
   "metadata": {},
   "outputs": [],
   "source": [
    "# create 4 bins to group school spending\n",
    "bins = [0, 585, 630, 645, 680]\n",
    "grp_name = [\"< $ 585\", \"$ 585 - 630\", \"$ 630 - 645\", \"$ 645 - 680\"]"
   ]
  },
  {
   "cell_type": "code",
   "execution_count": null,
   "id": "7be59e4e",
   "metadata": {
    "scrolled": true
   },
   "outputs": [],
   "source": [
    "# distribute them into the bins\n",
    "spending[\"Spending Ranges (Per Student)\"] = pd.cut(per_stu_budget, bins, labels = grp_name)\n",
    "\n",
    "spending_math = spending.groupby([\"Spending Ranges (Per Student)\"]).mean()[\"Average Math Score\"]\n",
    "spending_read = spending.groupby([\"Spending Ranges (Per Student)\"]).mean()[\"Average Reading Score\"]\n",
    "spending_pass_math = spending.groupby([\"Spending Ranges (Per Student)\"]).mean()[\"% Passing Math\"]\n",
    "spending_pass_read = spending.groupby([\"Spending Ranges (Per Student)\"]).mean()[\"% Passing Reading\"]\n",
    "spending_overall_pass = spending.groupby([\"Spending Ranges (Per Student)\"]).mean()[\"% Overall Passing\"]\n",
    "\n",
    "spend_group_summary = pd.DataFrame({\n",
    "    \"Average Math Score\":spending_math,\n",
    "    \"Average Reading Score\":spending_read,\n",
    "    \"% Passing Math\":spending_pass_math,\n",
    "    \"% Passing Reading\":spending_pass_read,\n",
    "    \"% Overall Passing\":spending_overall_pass\n",
    "    \n",
    "})\n",
    "spend_group_summary"
   ]
  },
  {
   "cell_type": "code",
   "execution_count": null,
   "id": "4f4aa439",
   "metadata": {},
   "outputs": [],
   "source": [
    "# bonus formatting"
   ]
  },
  {
   "cell_type": "markdown",
   "id": "5e253d24",
   "metadata": {},
   "source": [
    "---\n",
    "## Scores by School Size\n",
    "   *Perform the same operations as above, based on school size*"
   ]
  },
  {
   "cell_type": "code",
   "execution_count": null,
   "id": "ffb02402",
   "metadata": {},
   "outputs": [],
   "source": [
    "# create table with necessary columns from school summary\n",
    "#size = school_summary_df[[\"Average Math Score\", \"Average Reading Score\", \"% Passing Math\", \"% Passing Reading\", \"% Overall Passing\"]]\n",
    "#size.head()"
   ]
  },
  {
   "cell_type": "code",
   "execution_count": null,
   "id": "f4d6e630",
   "metadata": {},
   "outputs": [],
   "source": [
    "# create 3 bins to group school sizes\n",
    "bins = [0,999,1999,5000]\n",
    "size_name = [\"Small(<1000)\", \"Medium (1000-2000)\", \"Large (2000-5000)\"]"
   ]
  },
  {
   "cell_type": "code",
   "execution_count": null,
   "id": "1899ebc1",
   "metadata": {},
   "outputs": [],
   "source": [
    "# distribute them into the bins\n",
    "spending[\"School Size\"] = pd.cut(total_schools, bins, labels = size_name)\n",
    "\n",
    "size_math = spending.groupby([\"Spending Ranges (Per Student)\"]).mean()[\"Average Math Score\"]\n",
    "size_read = spending.groupby([\"Spending Ranges (Per Student)\"]).mean()[\"Average Reading Score\"]\n",
    "size_pass_math = spending.groupby([\"Spending Ranges (Per Student)\"]).mean()[\"% Passing Math\"]\n",
    "size_pass_read = spending.groupby([\"Spending Ranges (Per Student)\"]).mean()[\"% Passing Reading\"]\n",
    "size_overall_pass = spending.groupby([\"Spending Ranges (Per Student)\"]).mean()[\"% Overall Passing\"]\n",
    "\n",
    "size_group_summary = pd.DataFrame({\n",
    "    \"Average Math Score\":size_math,\n",
    "    \"Average Reading Score\":size_read,\n",
    "    \"% Passing Math\":size_pass_math,\n",
    "    \"% Passing Reading\":size_pass_read,\n",
    "    \"% Overall Passing\":size_overall_pass\n",
    "    \n",
    "})\n",
    "size_group_summary"
   ]
  },
  {
   "cell_type": "code",
   "execution_count": null,
   "id": "e2b64652",
   "metadata": {},
   "outputs": [],
   "source": [
    "# bonus formatting"
   ]
  },
  {
   "cell_type": "markdown",
   "id": "866cdc03",
   "metadata": {},
   "source": [
    "---\n",
    "## Scores by School Type\n",
    "   *Perform the same operations as above, based on school type*"
   ]
  },
  {
   "cell_type": "code",
   "execution_count": null,
   "id": "d2292dc3",
   "metadata": {},
   "outputs": [],
   "source": [
    "# create 2 bins to group school types\n",
    "#bins = [0,999,1999,5000]\n",
    "#size_name = [\"Small(<1000)\", \"Medium (1000-2000)\", \"Large (2000-5000)\"]"
   ]
  },
  {
   "cell_type": "code",
   "execution_count": null,
   "id": "936922a1",
   "metadata": {},
   "outputs": [],
   "source": [
    "school_type = school_summary_df.groupby(\"School Type\")\n",
    "\n",
    "school_type_summary = school_type.mean()\n",
    "\n",
    "\n",
    "school_type_summary[[\n",
    "    \"Average Math Score\", \n",
    "    \"Average Reading Score\", \n",
    "    \"% Passing Math\", \n",
    "    \"% Passing Reading\", \n",
    "    \"% Overall Passing\"\n",
    "]]\n",
    "school_type_summary"
   ]
  },
  {
   "cell_type": "code",
   "execution_count": null,
   "id": "c7695644",
   "metadata": {},
   "outputs": [],
   "source": [
    "# bonus formatting"
   ]
  },
  {
   "cell_type": "markdown",
   "id": "984324eb",
   "metadata": {},
   "source": [
    "## Data Analysis Observations\n"
   ]
  }
 ],
 "metadata": {
  "kernelspec": {
   "display_name": "Python 3 (ipykernel)",
   "language": "python",
   "name": "python3"
  },
  "language_info": {
   "codemirror_mode": {
    "name": "ipython",
    "version": 3
   },
   "file_extension": ".py",
   "mimetype": "text/x-python",
   "name": "python",
   "nbconvert_exporter": "python",
   "pygments_lexer": "ipython3",
   "version": "3.9.12"
  }
 },
 "nbformat": 4,
 "nbformat_minor": 5
}
